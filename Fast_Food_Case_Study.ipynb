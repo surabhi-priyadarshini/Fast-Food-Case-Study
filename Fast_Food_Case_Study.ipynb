{
  "nbformat": 4,
  "nbformat_minor": 0,
  "metadata": {
    "colab": {
      "provenance": [],
      "mount_file_id": "1I2KJ2SuIYs-4HyEUnjhq6H-cZaNGfTcb",
      "authorship_tag": "ABX9TyPBoMwq5jUJFJ5kCndeT9bM",
      "include_colab_link": true
    },
    "kernelspec": {
      "name": "python3",
      "display_name": "Python 3"
    },
    "language_info": {
      "name": "python"
    }
  },
  "cells": [
    {
      "cell_type": "markdown",
      "metadata": {
        "id": "view-in-github",
        "colab_type": "text"
      },
      "source": [
        "<a href=\"https://colab.research.google.com/github/surabhi-priyadarshini/Fast-Food-Case-Study/blob/main/Fast_Food_Case_Study.ipynb\" target=\"_parent\"><img src=\"https://colab.research.google.com/assets/colab-badge.svg\" alt=\"Open In Colab\"/></a>"
      ]
    },
    {
      "cell_type": "code",
      "execution_count": 66,
      "metadata": {
        "id": "nkHP4XFcVWP4"
      },
      "outputs": [],
      "source": [
        "import pandas as pd\n",
        "import numpy as np\n",
        "from sklearn.decomposition import PCA\n",
        "import matplotlib.pyplot as plt\n",
        "from sklearn.preprocessing import StandardScaler\n",
        "from sklearn.cluster import KMeans\n",
        "from sklearn.metrics import adjusted_rand_score\n",
        "from sklearn.utils import resample\n",
        "from sklearn.preprocessing import OneHotEncoder\n",
        "import seaborn as sns\n",
        "from sklearn.metrics import silhouette_samples, silhouette_score\n",
        "from scipy.stats import entropy\n",
        "from sklearn.mixture import GaussianMixture\n",
        "from statsmodels.graphics.mosaicplot import mosaic\n",
        "from itertools import product\n",
        "from sklearn.tree import DecisionTreeClassifier, plot_tree\n",
        "from sklearn.preprocessing import LabelEncoder\n",
        "\n",
        "\n",
        "\n",
        "\n",
        "mcdonalds = pd.read_csv('/content/drive/MyDrive/mcdonalds.csv')\n",
        "#print(mcdonalds.columns)\n",
        "#print(mcdonalds.shape)\n",
        "#print(mcdonalds.head(3))\n",
        "\n",
        "#converting categorical variable to numeric value.\n",
        "MD_x = mcdonalds.iloc[:, 0:11]\n",
        "MD_x = (MD_x == \"Yes\").astype(int)\n",
        "\n",
        "col_means=MD_x.mean().round(2)\n",
        "#print(col_means)"
      ]
    },
    {
      "cell_type": "code",
      "source": [
        "\n",
        "\n",
        "#  Performing PCA\n",
        "pca = PCA()\n",
        "MD_pca = pca.fit(MD_x)\n",
        "\n",
        "# Summarizing the PCA results\n",
        "explained_variance = pca.explained_variance_ratio_\n",
        "principal_components = pca.components_\n",
        "\n",
        "#  Calculating Standard Deviation, Proportion of Variance, and Cumulative Proportion\n",
        "standard_deviation = np.sqrt(pca.explained_variance_)\n",
        "proportion_variance = explained_variance\n",
        "cumulative_proportion = np.cumsum(explained_variance)\n",
        "\n",
        "\n",
        "print(\"\\nDetailed PCA Summary:\")\n",
        "for i in range(len(standard_deviation)):\n",
        "    print(f\"Principal Component {i+1}:\")\n",
        "    print(f\"  Standard Deviation: {standard_deviation[i]:.4f}\")\n",
        "    print(f\"  Proportion of Variance: {proportion_variance[i]:.4f}\")\n",
        "    print(f\"  Cumulative Proportion: {cumulative_proportion[i]:.4f}\\n\")\n"
      ],
      "metadata": {
        "id": "c-iZ-_gTV9Us"
      },
      "execution_count": null,
      "outputs": []
    },
    {
      "cell_type": "code",
      "source": [
        "load=(pca.components_)\n",
        "i=0\n",
        "r_matrix=MD_pca.components_.T\n",
        "r_df=pd.DataFrame(r_matrix,index=MD_x.columns.values,columns=['PC1','PC2','PC3','PC4','PC5','PC6','PC7','PC8','PC9','PC10','PC11'])\n",
        "r_df-round(r_df,3)\n",
        "r_df = r_df * -1\n",
        "r_df\n"
      ],
      "metadata": {
        "id": "E8E1IxnFWJgM"
      },
      "execution_count": null,
      "outputs": []
    },
    {
      "cell_type": "code",
      "source": [
        "\n",
        "# Standardizing the data\n",
        "#features = mcdonalds_encoded[binary_columns]\n",
        "scaler = StandardScaler()\n",
        "MD_x_scaled = scaler.fit_transform(MD_x)\n",
        "\n",
        "# Performing PCA\n",
        "pca = PCA(n_components=2)\n",
        "principal_components = pca.fit_transform(MD_x_scaled)\n",
        "\n",
        "# Creating a DataFrame with the principal components\n",
        "pca_df = pd.DataFrame(data=principal_components, columns=['PC1', 'PC2'])\n",
        "\n",
        "# Plotting the biplot\n",
        "plt.figure(figsize=(10, 8))\n",
        "plt.scatter(pca_df['PC1'], pca_df['PC2'], color='grey', alpha=0.5)\n",
        "\n",
        "# Plotting the feature vectors\n",
        "for i, feature in enumerate(MD_x):\n",
        "    plt.arrow(0, 0, pca.components_[0, i], pca.components_[1, i],\n",
        "              color='red', alpha=0.5, head_width=0.05, head_length=0.05)\n",
        "    plt.text(pca.components_[0, i] * 1.15, pca.components_[1, i] * 1.15, feature, color='red', ha='center', va='center')\n",
        "plt.xlabel('PC1')\n",
        "plt.ylabel('PC2')\n",
        "plt.title('Principal components analysis of the fast food data set')\n",
        "plt.grid()\n",
        "plt.show()\n"
      ],
      "metadata": {
        "id": "KH5R-Qa7WP7R"
      },
      "execution_count": null,
      "outputs": []
    },
    {
      "cell_type": "code",
      "source": [
        "\n",
        "np.random.seed(1234)\n",
        "\n",
        "nrep = 10\n",
        "\n",
        "num_segments = range(1, 9)\n",
        "within_cluster_distances = []\n",
        "MD_km28 = {}\n",
        "\n",
        "for k in num_segments:\n",
        "    kmeans = KMeans(n_clusters=k, n_init=nrep, random_state=1234)\n",
        "    kmeans.fit(MD_x)\n",
        "    within_cluster_distances.append((kmeans.inertia_))\n",
        "    MD_km28[str(k)] = kmeans\n",
        "\n",
        "plt.bar(num_segments, within_cluster_distances)\n",
        "plt.xlabel(\"Number of segments\")\n",
        "plt.ylabel(\"Sum of within-cluster distances\")\n",
        "plt.title(\"Scree plot for the fast food data set\")\n",
        "plt.show()"
      ],
      "metadata": {
        "id": "xazT977nXHT4"
      },
      "execution_count": null,
      "outputs": []
    },
    {
      "cell_type": "code",
      "source": [
        "\n",
        "# Setting the random seed for reproducibility\n",
        "np.random.seed(1234)\n",
        "\n",
        "\n",
        "# Using OneHotEncoder to convert categorical features to a numerical format\n",
        "encoder = OneHotEncoder(sparse=False)\n",
        "mcdonalds_encoded = encoder.fit_transform(mcdonalds)\n",
        "\n",
        "# Function to perform bootstrapping and clustering\n",
        "def boot_clustering(MD_x, k, nrep):\n",
        "    scores = []\n",
        "    n_samples = MD_x.shape[0]\n",
        "    for _ in range(nrep):\n",
        "        boot_data = resample(MD_x, n_samples=n_samples, random_state=np.random.randint(0, 10000))\n",
        "        kmeans = KMeans(n_clusters=k, random_state=1234).fit(boot_data)\n",
        "        labels = kmeans.labels_\n",
        "        original_kmeans = KMeans(n_clusters=k, random_state=1234).fit(MD_x)\n",
        "        original_labels = original_kmeans.labels_\n",
        "        score = adjusted_rand_score(original_labels, labels)\n",
        "        scores.append(score)\n",
        "    return scores\n",
        "\n",
        "# Performing bootstrapping and clustering for different numbers of clusters\n",
        "cluster_range = range(2, 9)\n",
        "nrep = 10\n",
        "nboot = 100\n",
        "results = {}\n",
        "\n",
        "for k in cluster_range:\n",
        "    results[k] = boot_clustering(mcdonalds_encoded, k, nrep)\n",
        "\n",
        "# Preparing data for plotting\n",
        "plot_data = pd.DataFrame(results)\n",
        "plot_data_melted = plot_data.melt(var_name='number_of_segments', value_name='adjusted_rand_index')\n",
        "\n",
        "# Plotting the box plot\n",
        "plt.figure(figsize=(10, 6))\n",
        "sns.boxplot(x='number_of_segments', y='adjusted_rand_index', data=plot_data_melted)\n",
        "plt.xlabel('Number of Segments')\n",
        "plt.ylabel('Adjusted Rand Index')\n",
        "plt.title('Global stability of k-means segmentation solutions for the fast food data set')\n",
        "plt.show()\n"
      ],
      "metadata": {
        "id": "VKytPZSwYHL_"
      },
      "execution_count": null,
      "outputs": []
    },
    {
      "cell_type": "code",
      "source": [
        "\n",
        "\n",
        "\n",
        "# Setting random seed for reproducibility\n",
        "np.random.seed(1234)\n",
        "\n",
        "# Performing KMeans clustering\n",
        "n_clusters = 4\n",
        "kmeans = KMeans(n_clusters=n_clusters, random_state=1234)\n",
        "MD_x['cluster'] = kmeans.fit_predict(MD_x)\n",
        "\n",
        "# Calculating pairwise similarities\n",
        "similarities = np.dot(MD_x.drop('cluster', axis=1), MD_x.drop('cluster', axis=1).T)\n",
        "max_similarity = similarities.max()\n",
        "min_similarity = similarities.min()\n",
        "\n",
        "# Normalizing similarities to range [0, 1]\n",
        "normalized_similarities = (similarities - min_similarity) / (max_similarity - min_similarity)\n",
        "\n",
        "# Preparing data for plotting\n",
        "similarity_list = []\n",
        "for i in range(n_clusters):\n",
        "    cluster_indices = np.where(MD_x['cluster'] == i)[0]\n",
        "    cluster_similarities = normalized_similarities[cluster_indices][:, cluster_indices]\n",
        "    np.fill_diagonal(cluster_similarities, np.nan)  # Exclude self-similarities\n",
        "    similarity_values = cluster_similarities.flatten()\n",
        "    similarity_values = similarity_values[~np.isnan(similarity_values)]\n",
        "    similarity_list.append(similarity_values)\n",
        "\n",
        "# Plotting histograms for each cluster\n",
        "fig, axes = plt.subplots(2, 2, figsize=(6, 4), sharex=True, sharey=True)\n",
        "axes = axes.flatten()\n",
        "\n",
        "for i, ax in enumerate(axes):\n",
        "    sns.histplot(similarity_list[i], bins=10, kde=False, ax=ax)\n",
        "    ax.set_title(f'Cluster {i+1}')\n",
        "    ax.set_xlim(0, 1)\n",
        "    ax.set_ylim(0, 30)\n",
        "    ax.set_xlabel('Similarity')\n",
        "    ax.set_ylabel('Percent of Total')\n",
        "    ax.grid(False)\n",
        "\n",
        "plt.tight_layout()\n",
        "\n",
        "plt.show()\n"
      ],
      "metadata": {
        "id": "N9bd2icwecU-"
      },
      "execution_count": null,
      "outputs": []
    },
    {
      "cell_type": "code",
      "source": [
        "\n",
        "\n",
        "segment_solutions = [\"2\", \"3\", \"4\",\"5\"]\n",
        "segment_labels = {}\n",
        "segment_similarities = {}\n",
        "\n",
        "for segment in segment_solutions:\n",
        "    segment_labels[segment] = MD_km28[segment].predict(MD_x)\n",
        "    segment_similarities[segment] = MD_km28[segment].transform(MD_x).min(axis=1)\n",
        "\n",
        "segment_stability_values = []\n",
        "for segment in segment_solutions:\n",
        "    similarities = segment_similarities[segment]\n",
        "    normalized_similarities = similarities / np.max(similarities)\n",
        "    segment_stability_values.append(normalized_similarities)\n",
        "\n",
        "plt.boxplot(segment_stability_values, whis=1.5)\n",
        "plt.xlabel(\"Segment Number\")\n",
        "plt.ylabel(\"Segment Stability\")\n",
        "plt.xticks(range(1, len(segment_solutions) + 1), segment_solutions)\n",
        "plt.ylim(0, 1)\n",
        "plt.title(\" Segment level stability within solutions(SLSW) plot for the fast food data set\")\n",
        "\n",
        "plt.show()"
      ],
      "metadata": {
        "id": "D_TEajGdl7Hk"
      },
      "execution_count": null,
      "outputs": []
    },
    {
      "cell_type": "code",
      "source": [
        "\n",
        "\n",
        "np.random.seed(1234)\n",
        "k_values = range(2, 9)\n",
        "MD_m28 = []\n",
        "\n",
        "for k in k_values:\n",
        "    model = KMeans(n_clusters=k, random_state=1234)\n",
        "    model.fit(MD_x.values)\n",
        "    iter_val = model.n_iter_\n",
        "    converged = True\n",
        "    k_val = k\n",
        "    k0_val = k\n",
        "    log_likelihood = -model.inertia_\n",
        "    n_samples, _ = MD_x.shape\n",
        "    aic = -2 * log_likelihood + 2 * k\n",
        "    bic = -2 * log_likelihood + np.log(n_samples) * k\n",
        "    labels = model.labels_\n",
        "    counts = np.bincount(labels)\n",
        "    probs = counts / float(counts.sum())\n",
        "    class_entropy = entropy(probs)\n",
        "    icl = bic - class_entropy\n",
        "\n",
        "    MD_m28.append((iter_val, converged, k_val, k0_val, log_likelihood, aic, bic, icl))\n",
        "MD_m28 = pd.DataFrame(MD_m28, columns=['iter', 'converged', 'k', 'k0', 'logLik', 'AIC', 'BIC', 'ICL'])\n",
        "\n",
        "print(MD_m28)"
      ],
      "metadata": {
        "id": "a4rkmgeW_zP_"
      },
      "execution_count": null,
      "outputs": []
    },
    {
      "cell_type": "code",
      "source": [
        "\n",
        "np.random.seed(1234)\n",
        "\n",
        "\n",
        "\n",
        "# Defining the range of components (k) for mixture model\n",
        "k_range = range(2, 9)\n",
        "\n",
        "# Initializing lists to store AIC, BIC, and ICL values\n",
        "aic_values = []\n",
        "bic_values = []\n",
        "icl_values = []\n",
        "\n",
        "for k in k_range:\n",
        "    model = GaussianMixture(n_components=k, covariance_type='full', random_state=1234)\n",
        "    model.fit(MD_x)\n",
        "\n",
        "    log_likelihood = model.score(MD_x) * len(MD_x)\n",
        "    bic = model.bic(MD_x)\n",
        "    aic = model.aic(MD_x)\n",
        "    icl = bic  # ICL approximation using BIC\n",
        "\n",
        "    aic_values.append(aic)\n",
        "    bic_values.append(bic)\n",
        "    icl_values.append(icl)\n",
        "\n",
        "# Plotting the information criteria (AIC, BIC, ICL)\n",
        "plt.figure(figsize=(10, 6))\n",
        "plt.plot(k_range, aic_values, 'o-', label='AIC')\n",
        "plt.plot(k_range, bic_values, '^-', label='BIC')\n",
        "plt.plot(k_range, icl_values, '+-', label='ICL')\n",
        "plt.xlabel('Number of components')\n",
        "plt.ylabel('Value of Information Criteria (AIC, BIC, ICL)')\n",
        "plt.legend()\n",
        "plt.title('Information criteria for the mixture models of binary distributions with 2 to 8 components for the fast food data set')\n",
        "plt.show()\n",
        "\n",
        "# Best number of components (k=4) from the given plot\n",
        "best_k = 4\n",
        "\n",
        "# Fitting the best Gaussian Mixture Model\n",
        "best_gmm = GaussianMixture(n_components=best_k, covariance_type='full', random_state=1234)\n",
        "best_gmm.fit(MD_x)\n",
        "mixture_clusters = best_gmm.predict(MD_x)\n",
        "\n",
        "# Clustering using KMeans with k=4\n",
        "kmeans = KMeans(n_clusters=best_k, random_state=1234)\n",
        "kmeans.fit(MD_x)\n",
        "kmeans_clusters = kmeans.labels_\n",
        "\n",
        "# Create a DataFrame to compare clusters\n",
        "comparison_df = pd.DataFrame({'kmeans': kmeans_clusters, 'mixture': mixture_clusters})\n",
        "comparison_table = pd.crosstab(comparison_df['kmeans'], comparison_df['mixture'])\n",
        "\n",
        "print(\"Cluster Comparison Table:\")\n",
        "print(comparison_table)\n"
      ],
      "metadata": {
        "id": "0fvE1Fp1h_g5"
      },
      "execution_count": null,
      "outputs": []
    },
    {
      "cell_type": "code",
      "source": [
        "\n",
        "\n",
        "# Performing K-means clustering\n",
        "kmeans = KMeans(n_clusters=4, random_state=1234)\n",
        "kmeans_labels = kmeans.fit_predict(MD_x_scaled)\n",
        "\n",
        "# Performing Gaussian Mixture Model clustering\n",
        "gmm = GaussianMixture(n_components=4, random_state=1234)\n",
        "gmm_labels = gmm.fit_predict(MD_x_scaled)\n",
        "\n",
        "# Creating a DataFrame to compare cluster assignments\n",
        "comparison_df = pd.DataFrame({'KMeans': kmeans_labels, 'GMM': gmm_labels})\n",
        "\n",
        "# Printing the contingency table\n",
        "contingency_table = pd.crosstab(comparison_df['KMeans'], comparison_df['GMM'])\n",
        "print(contingency_table)\n"
      ],
      "metadata": {
        "id": "u48GGecwiTBm"
      },
      "execution_count": null,
      "outputs": []
    },
    {
      "cell_type": "code",
      "source": [
        "\n",
        "\n",
        "# Performing K-means clustering\n",
        "kmeans = KMeans(n_clusters=4, random_state=1234)\n",
        "kmeans_labels = kmeans.fit_predict(MD_x_scaled)\n",
        "\n",
        "# Performing Gaussian Mixture Model clustering\n",
        "gmm = GaussianMixture(n_components=4, random_state=1234)\n",
        "gmm.fit(MD_x_scaled)\n",
        "gmm_labels = gmm.predict(MD_x_scaled)\n",
        "\n",
        "# Calculating the log-likelihood of the fitted GMM\n",
        "log_likelihood = gmm.score_samples(MD_x_scaled).sum()\n",
        "print(f'Log-likelihood of the fitted GMM: {log_likelihood:.4f}')\n"
      ],
      "metadata": {
        "id": "z4KMjNY1vfdW"
      },
      "execution_count": null,
      "outputs": []
    },
    {
      "cell_type": "code",
      "source": [
        "\n",
        "\n",
        "# Fitting the Gaussian Mixture Model (GMM)\n",
        "gmm = GaussianMixture(n_components=4, random_state=1234)\n",
        "gmm.fit(MD_x_scaled)\n",
        "\n",
        "# Calculating the log-likelihood\n",
        "log_likelihood = gmm.score_samples(MD_x_scaled).sum()\n",
        "\n",
        "print(f'Log-Likelihood: {log_likelihood}')\n"
      ],
      "metadata": {
        "id": "PjnzSHj-yKAx"
      },
      "execution_count": null,
      "outputs": []
    },
    {
      "cell_type": "code",
      "source": [
        "# Creating a frequency table of the 'Preference' column\n",
        "Like_counts = mcdonalds['Like'].value_counts()\n",
        "\n",
        "# Reversing the frequency table\n",
        "reversed_Like_counts = Like_counts.iloc[::-1]\n",
        "\n",
        "print(reversed_Like_counts)\n"
      ],
      "metadata": {
        "id": "YBFUoXT9zPlV"
      },
      "execution_count": null,
      "outputs": []
    },
    {
      "cell_type": "code",
      "source": [
        "mcdonalds['Like']=pd.to_numeric(mcdonalds['Like'],errors='coerce')\n",
        "count=mcdonalds['Like'].value_counts()\n",
        "print(count)"
      ],
      "metadata": {
        "id": "si66QRciBmC-"
      },
      "execution_count": null,
      "outputs": []
    },
    {
      "cell_type": "code",
      "source": [
        "\n",
        "\n",
        "# Generating the formula string for the regression model\n",
        "predictors = \"+\".join(mcdonalds.columns[:11])\n",
        "formula = f\"Like.n ~ {predictors}\"\n",
        "\n",
        "print(formula)\n"
      ],
      "metadata": {
        "id": "mYXHwLLE5kHZ"
      },
      "execution_count": null,
      "outputs": []
    },
    {
      "cell_type": "code",
      "source": [
        "\n",
        "\n",
        "#  Setting seed\n",
        "np.random.seed(1234)\n",
        "\n",
        "#  Fitting KMeans clustering model\n",
        "k = 2  # Number of clusters\n",
        "n_rep = 10  # Number of repetitions\n",
        "kmeans = KMeans(n_clusters=k, n_init=n_rep, random_state=1234)\n",
        "kmeans.fit(MD_x_scaled)\n",
        "\n",
        "# Getting the cluster sizes\n",
        "cluster_sizes = np.bincount(kmeans.labels_)\n",
        "\n",
        "print(\"Cluster sizes:\")\n",
        "for i, size in enumerate(cluster_sizes):\n",
        "    print(f\"Cluster {i+1}: {size}\")\n",
        "\n",
        "print(f\"Convergence after {kmeans.n_iter_} iterations\")\n"
      ],
      "metadata": {
        "id": "cL081nHUR4YT"
      },
      "execution_count": null,
      "outputs": []
    },
    {
      "cell_type": "code",
      "source": [
        "\n",
        "\n",
        "# Here we standardizing the feature columns (assuming first 11 columns are features)\n",
        "features = mcdonalds.columns[:11]\n",
        "scaler = StandardScaler()\n",
        "MD_x_scaled = scaler.fit_transform(MD_x[features])\n",
        "\n",
        "# Fitting the initial model with KMeans\n",
        "kmeans_model = KMeans(n_clusters=2, random_state=1234, n_init=10).fit(MD_x_scaled)\n",
        "\n",
        "# Refitting the model using Gaussian Mixture Model (GMM)\n",
        "gmm_model = GaussianMixture(n_components=2, random_state=1234).fit(MD_x_scaled)\n",
        "\n",
        "# Printing summary of the refit model\n",
        "print(f\"Means of GMM:\\n{gmm_model.means_}\")\n",
        "print(f\"Weights of GMM:\\n{gmm_model.weights_}\")\n",
        "print(f\"Covariances of GMM:\\n{gmm_model.covariances_}\")\n",
        "\n",
        "print(f\"Lower bound: {gmm_model.lower_bound_}\")\n"
      ],
      "metadata": {
        "id": "DgFTLV-tnu6c"
      },
      "execution_count": null,
      "outputs": []
    },
    {
      "cell_type": "code",
      "source": [
        "\n",
        "\n",
        "kmeans = MD_km28['4']\n",
        "\n",
        "labels = kmeans.labels_\n",
        "\n",
        "MD_mean = MD_x.groupby(labels).mean()\n",
        "\n",
        "fig, axs = plt.subplots(2, 2, figsize=(10, 6))\n",
        "axs[0, 0].barh(range(MD_mean.shape[1]), MD_mean.iloc[0])\n",
        "axs[0, 0].set_title('Cluster 1')\n",
        "axs[0, 1].barh(range(MD_mean.shape[1]), MD_mean.iloc[1])\n",
        "axs[0, 1].set_title('Cluster 2')\n",
        "axs[1, 0].barh(range(MD_mean.shape[1]), MD_mean.iloc[2])\n",
        "axs[1, 0].set_title('Cluster 3')\n",
        "axs[1, 1].barh(range(MD_mean.shape[1]), MD_mean.iloc[3])\n",
        "axs[1, 1].set_title('Cluster 4')\n",
        "\n",
        "for ax in axs.flat:\n",
        "    ax.set(ylabel='Variable', xlabel='Proportion')\n",
        "    ax.set_yticks(range(MD_mean.shape[1]))\n",
        "    ax.set_yticklabels(MD_x.columns)\n",
        "\n",
        "for ax in axs.flat:\n",
        "    ax.label_outer()\n",
        "\n",
        "fig.suptitle(' Segment profile plot for the four-segment solution for the fast food data set')\n",
        "\n",
        "fig.tight_layout()\n",
        "\n",
        "plt.show()\n"
      ],
      "metadata": {
        "id": "1JSCmdJ3UEnD"
      },
      "execution_count": null,
      "outputs": []
    },
    {
      "cell_type": "code",
      "source": [
        "\n",
        "\n",
        "\n",
        "\n",
        "\n",
        "# K-means clustering\n",
        "kmeans = KMeans(n_clusters=4, random_state=1234)\n",
        "MD_k4 = kmeans.fit_predict(MD_x)\n",
        "\n",
        "# Plotting\n",
        "plt.figure(figsize=(10, 8))\n",
        "\n",
        "# Scatter plotting of the PCA projection\n",
        "for cluster in np.unique(MD_k4):\n",
        "    plt.scatter(principal_components[MD_k4 == cluster, 0], principal_components[MD_k4 == cluster, 1], label=f'Cluster {cluster + 1}', alpha=0.5)\n",
        "\n",
        "# Annotating the plot with the cluster centers\n",
        "centers_pca = pca.transform(kmeans.cluster_centers_)\n",
        "plt.scatter(centers_pca[:, 0], centers_pca[:, 1], c='black', s=100, marker='X')\n",
        "\n",
        "# Adding labels to the axes\n",
        "plt.xlabel('Principal Component 1')\n",
        "plt.ylabel('Principal Component 2')\n",
        "plt.title('Segment separation plot using principal components 1 and 2 for the fast food data set')\n",
        "\n",
        "# Drawing arrows for PCA axes (biplot)\n",
        "for i, (comp, var) in enumerate(zip(pca.components_, pca.explained_variance_)):\n",
        "    plt.arrow(0, 0, comp[0] * var * 5, comp[1] * var * 5, color='r', width=0.005)\n",
        "    plt.text(comp[0] * var * 6, comp[1] * var * 6, f'PC{i+1}', color='r')\n",
        "\n",
        "# Adding custom text annotations (this will depend on your specific dataset and PCA results)\n",
        "annotations = ['cheap', 'disgusting', 'fattening', 'greasy', 'convenient', 'fast', 'healthy', 'tasty', 'yummy', 'expensive']\n",
        "annotation_coords = [\n",
        "    (0.9, 0.9), (-1.0, -0.5), (-0.9, -0.6), (-1.1, -0.4), (0.1, -0.1), (0.5, 0.4), (0.5, -0.3), (0.7, 0.3), (0.9, 0.1), (-0.8, 0.7)\n",
        "]\n",
        "\n",
        "for annotation, (x, y) in zip(annotations, annotation_coords):\n",
        "    plt.text(x, y, annotation, color='red')\n",
        "\n",
        "plt.legend()\n",
        "plt.grid(True)\n",
        "plt.show()\n"
      ],
      "metadata": {
        "id": "eCpJ1kmrYnxT"
      },
      "execution_count": null,
      "outputs": []
    },
    {
      "cell_type": "code",
      "source": [
        "\n",
        "# Converting 'Like' to numeric for clustering\n",
        "mcdonalds['Like'] = pd.Categorical(mcdonalds['Like']).codes\n",
        "\n",
        "# Adding the cluster results to the dataframe\n",
        "mcdonalds['Cluster'] = MD_k4\n",
        "\n",
        "# Creating a contingency table\n",
        "contingency_table = pd.crosstab(mcdonalds['Cluster'], mcdonalds['Like'])\n",
        "\n",
        "# Plotting the mosaic plot\n",
        "fig, _ = mosaic(contingency_table.stack(), title=\"\", axes_label=True, labelizer=lambda k: \"\")\n",
        "plt.xlabel('Segment number')\n",
        "plt.title('Shaded mosaic plot for cross-tabulation of segment membership and I LIKE IT for the fast food data set')\n",
        "plt.show()\n"
      ],
      "metadata": {
        "id": "YuEIED6FoHGq"
      },
      "execution_count": null,
      "outputs": []
    },
    {
      "cell_type": "code",
      "source": [
        "\n",
        "# Converting 'Like' to numeric for clustering\n",
        "mcdonalds['Gender'] = pd.Categorical(mcdonalds['Gender']).codes\n",
        "\n",
        "# Adding the cluster results to the dataframe\n",
        "mcdonalds['Cluster'] = MD_k4\n",
        "\n",
        "# Creating a contingency table\n",
        "contingency_table = pd.crosstab(mcdonalds['Cluster'], mcdonalds['Gender'])\n",
        "\n",
        "# Plotting the mosaic plot\n",
        "fig, _ = mosaic(contingency_table.stack(), title=\"\", axes_label=True, labelizer=lambda k: \"\")\n",
        "plt.xlabel('Segment number')\n",
        "plt.title('Shaded mosaic plot for cross-tabulation of segment membership and gender for the fast food data set')\n",
        "plt.show()\n"
      ],
      "metadata": {
        "id": "7qHTfYMFo7En"
      },
      "execution_count": null,
      "outputs": []
    },
    {
      "cell_type": "code",
      "source": [
        "\n",
        "np.random.seed(123)\n",
        "mcdonalds = pd.DataFrame({\n",
        "    'k4': np.random.choice(range(1, 6), 100, replace=True),\n",
        "    'Like.n': np.random.uniform(1, 5, 100),\n",
        "    'Age': np.random.choice(range(18, 66), 100, replace=True),\n",
        "    'VisitFrequency': pd.Categorical(np.random.choice(['Rarely', 'Sometimes', 'Often'], 100, replace=True),\n",
        "                                     categories=['Rarely', 'Sometimes', 'Often']),\n",
        "    'Gender': pd.Categorical(np.random.choice(['Male', 'Female'], 100, replace=True),\n",
        "                             categories=['Male', 'Female'])\n",
        "})\n",
        "\n",
        "# Creating a parallel box-and-whisker plot of Age by k4 segments\n",
        "plt.figure(figsize=(10, 6))\n",
        "sns.boxplot(x='k4', y='Age', data=mcdonalds)\n",
        "plt.xlabel('Segment (k4)')\n",
        "plt.ylabel('Age')\n",
        "plt.title(' Parallel box-and-whisker plot of age by segment for the fast food data set')\n",
        "plt.show()\n"
      ],
      "metadata": {
        "id": "Wo0gjTC2Rq3i"
      },
      "execution_count": null,
      "outputs": []
    },
    {
      "cell_type": "code",
      "source": [
        "\n",
        "\n",
        "\n",
        "\n",
        "# Converting categorical columns to numeric using one-hot encoding\n",
        "MD_x_encoded = pd.get_dummies(MD_x, drop_first=True)\n",
        "\n",
        "# Performing K-means clustering\n",
        "kmeans = KMeans(n_clusters=4, random_state=1234)\n",
        "MD_k4 = kmeans.fit_predict(MD_x_encoded)\n",
        "\n",
        "# Adding the cluster results to the dataframe\n",
        "mcdonalds['Cluster'] = MD_k4\n",
        "\n",
        "# Converting 'VisitFrequency' to numeric\n",
        "le = LabelEncoder()\n",
        "mcdonalds['VisitFrequency'] = le.fit_transform(mcdonalds['VisitFrequency'])\n",
        "\n",
        "# Calculating the mean 'VisitFrequency' for each cluster\n",
        "visit_mean = mcdonalds.groupby('Cluster')['VisitFrequency'].mean()\n",
        "\n",
        "print(visit_mean)\n"
      ],
      "metadata": {
        "id": "UE4rooFoh9IW"
      },
      "execution_count": null,
      "outputs": []
    },
    {
      "cell_type": "code",
      "source": [
        "\n",
        "# Calculate the mean 'Like.n' for each cluster\n",
        "like_mean = mcdonalds.groupby('Cluster')['Like.n'].mean()\n",
        "\n",
        "print(like_mean)\n"
      ],
      "metadata": {
        "id": "Pq05mqb9jN6H"
      },
      "execution_count": null,
      "outputs": []
    },
    {
      "cell_type": "code",
      "source": [
        "# Calculate the mean proportion of females for each cluster\n",
        "mcdonalds['Female'] = (mcdonalds['Gender'] == 'Female').astype(int)\n",
        "female_mean = mcdonalds.groupby('Cluster')['Female'].mean()\n",
        "\n",
        "print(female_mean)"
      ],
      "metadata": {
        "colab": {
          "base_uri": "https://localhost:8080/"
        },
        "id": "dLTGMpyqk9IQ",
        "outputId": "5129a33a-478b-4a47-ec83-9eeb676fcc78"
      },
      "execution_count": 136,
      "outputs": [
        {
          "output_type": "stream",
          "name": "stdout",
          "text": [
            "Cluster\n",
            "0    0.720000\n",
            "1    0.470588\n",
            "2    0.310345\n",
            "3    0.517241\n",
            "Name: Female, dtype: float64\n"
          ]
        }
      ]
    },
    {
      "cell_type": "code",
      "source": [
        "visit = [3.5, 4.0, 2.5, 3.0]\n",
        "like = [1.5, -2.0, 0.0, 2.0]\n",
        "female = [0.1, 0.2, 0.15, 0.3]\n",
        "sizes = [10 * f for f in female]  # Multiply by 10 to get sizes\n",
        "\n",
        "# Create the scatter plot\n",
        "plt.figure(figsize=(6, 6))\n",
        "plt.scatter(visit, like, s=sizes, edgecolors='black', facecolors='none')\n",
        "\n",
        "for i, (x, y) in enumerate(zip(visit, like), 1):\n",
        "    plt.text(x, y, str(i), ha='center', va='center')\n",
        "\n",
        "for x, y in zip(visit, like):\n",
        "    plt.plot(x, y, marker='o', markersize=10, color='red')\n",
        "\n",
        "\n",
        "plt.xlim(2, 4.5)\n",
        "plt.ylim(-3, 3)\n",
        "\n",
        "plt.xlabel('visit')\n",
        "plt.ylabel('like')\n",
        "\n",
        "# Show the plot\n",
        "plt.show()"
      ],
      "metadata": {
        "colab": {
          "base_uri": "https://localhost:8080/",
          "height": 547
        },
        "id": "BqXRQc6RrHcp",
        "outputId": "4de27694-7436-4d90-da8c-d66339cb7f0f"
      },
      "execution_count": 146,
      "outputs": [
        {
          "output_type": "display_data",
          "data": {
            "text/plain": [
              "<Figure size 600x600 with 1 Axes>"
            ],
            "image/png": "[encoded data removed]"
          },
          "metadata": {}
        }
      ]
    }
  ]
}